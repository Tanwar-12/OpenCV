{
 "cells": [
  {
   "cell_type": "markdown",
   "id": "d4c5b7f7-68eb-4736-8ec1-843969bcfca1",
   "metadata": {},
   "source": [
    "# **Python OpenCV | cv2.arrowedLine() method**"
   ]
  },
  {
   "cell_type": "code",
   "execution_count": null,
   "id": "9f939fdd-2136-42fd-8f63-cf14dd338b3c",
   "metadata": {},
   "outputs": [],
   "source": [
    "# Python program to explain cv2.arrowedLine() method \n",
    "\n",
    "# importing cv2 \n",
    "import cv2 \n",
    "from matplotlib import pyplot as plt\n",
    "\n",
    "# path \n",
    "path = r'D:\\Downloads\\ES.jpg'\n",
    "\n",
    "# Reading an image in default mode \n",
    "image = cv2.imread(path) \n",
    "\n",
    "# Start coordinate, here (0, 0) \n",
    "# represents the top left corner of image \n",
    "start_point = (0, 0) \n",
    "\n",
    "# End coordinate \n",
    "end_point = (200, 200) \n",
    "\n",
    "# Green color in BGR \n",
    "color = (0, 255, 0) \n",
    "\n",
    "# Line thickness of 9 px \n",
    "thickness = 9\n",
    "\n",
    "# Using cv2.arrowedLine() method \n",
    "# Draw a diagonal green arrow line \n",
    "# with thickness of 9 px \n",
    "image = cv2.arrowedLine(image, start_point, end_point, color, thickness) \n",
    "\n",
    "# Convert image from BGR to RGB (matplotlib expects RGB)\n",
    "image_rgb = cv2.cvtColor(image, cv2.COLOR_BGR2RGB)\n",
    "\n",
    "# Displaying the image using matplotlib\n",
    "plt.imshow(image_rgb)\n",
    "plt.axis('off')  # Turn off axis\n",
    "plt.show()\n"
   ]
  },
  {
   "cell_type": "code",
   "execution_count": null,
   "id": "7dd0f8b3-d621-4f89-8b8c-d651914c872e",
   "metadata": {},
   "outputs": [],
   "source": []
  }
 ],
 "metadata": {
  "kernelspec": {
   "display_name": "Python 3 (ipykernel)",
   "language": "python",
   "name": "python3"
  },
  "language_info": {
   "codemirror_mode": {
    "name": "ipython",
    "version": 3
   },
   "file_extension": ".py",
   "mimetype": "text/x-python",
   "name": "python",
   "nbconvert_exporter": "python",
   "pygments_lexer": "ipython3",
   "version": "3.11.7"
  }
 },
 "nbformat": 4,
 "nbformat_minor": 5
}
