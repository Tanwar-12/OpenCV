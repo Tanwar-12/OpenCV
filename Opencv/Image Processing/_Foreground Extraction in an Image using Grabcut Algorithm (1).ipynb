{
 "cells": [
  {
   "cell_type": "markdown",
   "id": "aaeb0690",
   "metadata": {},
   "source": [
    "# Python | Foreground Extraction in an Image using Grabcut Algorithm"
   ]
  },
  {
   "cell_type": "markdown",
   "id": "5ef8c763",
   "metadata": {},
   "source": [
    "**GrabCut is an interactive image segmentation algorithm that was introduced by Carsten Rother, Vladimir Kolmogorov, and Andrew Blake in 2004. It is a graph-cut-based algorithm designed to segment an image into foreground and background regions, making it particularly useful for applications like image editing and object recognition.**"
   ]
  },
  {
   "cell_type": "code",
   "execution_count": null,
   "id": "8308136c",
   "metadata": {},
   "outputs": [],
   "source": [
    "import cv2\n",
    "import numpy as np\n",
    "import matplotlib.pyplot as plt\n",
    "from matplotlib import patches\n",
    "from IPython.display import display, Image\n",
    "\n",
    "# Function to perform GrabCut foreground extraction\n",
    "def grabcut_foreground_extraction(image, rectangle):\n",
    "    mask = np.zeros(image.shape[:2], np.uint8)\n",
    "    bgd_model = np.zeros((1, 65), np.float64)\n",
    "    fgd_model = np.zeros((1, 65), np.float64)\n",
    "\n",
    "    # Apply GrabCut algorithm\n",
    "    cv2.grabCut(image, mask, rectangle, bgd_model, fgd_model, 5, cv2.GC_INIT_WITH_RECT)\n",
    "\n",
    "    # Modify the mask to create a binary mask for the foreground\n",
    "    mask2 = np.where((mask == 2) | (mask == 0), 0, 1).astype('uint8')\n",
    "\n",
    "    # Apply the binary mask to the original image\n",
    "    result = image * mask2[:, :, np.newaxis]\n",
    "\n",
    "    return result\n",
    "\n",
    "# Load the image\n",
    "image_path = 'D:\\ST\\Pictures/Mp.jpg'  # Replace with the actual path to your image\n",
    "image = cv2.imread(image_path)\n",
    "\n",
    "# Create a window and allow the user to specify a rectangle around the object of interest\n",
    "rect = cv2.selectROI(image)\n",
    "cv2.destroyAllWindows()\n",
    "\n",
    "# Perform GrabCut foreground extraction\n",
    "result = grabcut_foreground_extraction(image, rect)\n",
    "\n",
    "# Display the original and segmented images in the notebook\n",
    "_, ax = plt.subplots(1, 2, figsize=(10, 5))\n",
    "ax[0].imshow(cv2.cvtColor(image, cv2.COLOR_BGR2RGB))\n",
    "ax[0].add_patch(patches.Rectangle((rect[0], rect[1]), rect[2], rect[3], linewidth=2, edgecolor='r', facecolor='none'))\n",
    "ax[0].set_title('Original Image')\n",
    "ax[0].axis('off')\n",
    "\n",
    "ax[1].imshow(cv2.cvtColor(result, cv2.COLOR_BGR2RGB))\n",
    "ax[1].set_title('Foreground Extracted')\n",
    "ax[1].axis('off')\n",
    "\n",
    "plt.show()\n"
   ]
  },
  {
   "cell_type": "code",
   "execution_count": null,
   "id": "b686d6c1",
   "metadata": {},
   "outputs": [],
   "source": []
  }
 ],
 "metadata": {
  "kernelspec": {
   "display_name": "Python 3 (ipykernel)",
   "language": "python",
   "name": "python3"
  },
  "language_info": {
   "codemirror_mode": {
    "name": "ipython",
    "version": 3
   },
   "file_extension": ".py",
   "mimetype": "text/x-python",
   "name": "python",
   "nbconvert_exporter": "python",
   "pygments_lexer": "ipython3",
   "version": "3.11.5"
  }
 },
 "nbformat": 4,
 "nbformat_minor": 5
}
