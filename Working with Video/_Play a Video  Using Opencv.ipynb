{
 "cells": [
  {
   "cell_type": "markdown",
   "id": "773b1cca-5d25-408c-9de8-5b78e734f283",
   "metadata": {},
   "source": [
    "# **OPEN A VIDEO USING OPENCV**"
   ]
  },
  {
   "cell_type": "code",
   "execution_count": 1,
   "id": "02142850-1ba2-4b39-aeaf-87807ac9102e",
   "metadata": {},
   "outputs": [],
   "source": [
    "import cv2\n",
    "import time"
   ]
  },
  {
   "cell_type": "code",
   "execution_count": 2,
   "id": "ffd2cc56-5ce9-408a-bccc-7cbc6a7745a4",
   "metadata": {},
   "outputs": [],
   "source": [
    "video= cv2.VideoCapture('Indvspak.mp4')\n",
    "if video.isOpened() == False:\n",
    "    print (\"File not found\")"
   ]
  },
  {
   "cell_type": "code",
   "execution_count": 15,
   "id": "5e0f5888-0d4a-4115-b25c-aa5cd078e6a5",
   "metadata": {},
   "outputs": [],
   "source": [
    "import cv2\n",
    "import time\n",
    "\n",
    "video = cv2.VideoCapture('Indvspak.mp4')  # Assuming 'video_file.mp4' is your video file\n",
    "\n",
    "while video.isOpened():\n",
    "    ret, frame = video.read()\n",
    "\n",
    "    if ret:\n",
    "        time.sleep(4/60)\n",
    "        cv2.imshow('frame', frame)\n",
    "\n",
    "    if cv2.waitKey(10) & 0xFF == ord('p'):\n",
    "        break\n",
    "\n",
    "    # Check if video is not opened\n",
    "    if not ret:\n",
    "        break\n",
    "\n",
    "video.release()\n",
    "cv2.destroyAllWindows()\n"
   ]
  },
  {
   "cell_type": "code",
   "execution_count": null,
   "id": "0d089d20-901a-4f25-b028-54e90a07ec78",
   "metadata": {},
   "outputs": [
    {
     "data": {
      "text/plain": [
       "array([[[142, 152, 156],\n",
       "        [142, 152, 156],\n",
       "        [142, 152, 156],\n",
       "        ...,\n",
       "        [147, 156, 158],\n",
       "        [147, 156, 158],\n",
       "        [147, 156, 158]],\n",
       "\n",
       "       [[143, 153, 157],\n",
       "        [143, 153, 157],\n",
       "        [143, 153, 157],\n",
       "        ...,\n",
       "        [149, 158, 160],\n",
       "        [149, 158, 160],\n",
       "        [149, 158, 160]],\n",
       "\n",
       "       [[145, 155, 159],\n",
       "        [145, 155, 159],\n",
       "        [145, 155, 159],\n",
       "        ...,\n",
       "        [151, 160, 162],\n",
       "        [151, 160, 162],\n",
       "        [151, 160, 162]],\n",
       "\n",
       "       ...,\n",
       "\n",
       "       [[ 13,  26,  41],\n",
       "        [ 13,  26,  41],\n",
       "        [ 13,  26,  41],\n",
       "        ...,\n",
       "        [  7,  20,  39],\n",
       "        [  6,  21,  39],\n",
       "        [  6,  21,  39]],\n",
       "\n",
       "       [[ 11,  24,  39],\n",
       "        [ 11,  24,  39],\n",
       "        [ 11,  24,  39],\n",
       "        ...,\n",
       "        [ 11,  25,  37],\n",
       "        [ 10,  26,  37],\n",
       "        [ 10,  26,  37]],\n",
       "\n",
       "       [[240, 253, 255],\n",
       "        [240, 253, 255],\n",
       "        [240, 253, 255],\n",
       "        ...,\n",
       "        [240, 254, 255],\n",
       "        [239, 255, 255],\n",
       "        [239, 255, 255]]], dtype=uint8)"
      ]
     },
     "metadata": {},
     "output_type": "display_data"
    }
   ],
   "source": [
    "import cv2\n",
    "import time\n",
    "from IPython.display import display, clear_output\n",
    "\n",
    "video = cv2.VideoCapture('Indvspak.mp4')  # Assuming 'video_file.mp4' is your video file\n",
    "\n",
    "try:\n",
    "    while video.isOpened():\n",
    "        ret, frame = video.read()\n",
    "\n",
    "        if ret:\n",
    "            # Convert the OpenCV BGR image to RGB\n",
    "            frame_rgb = cv2.cvtColor(frame, cv2.COLOR_BGR2RGB)\n",
    "\n",
    "            # Display the frame using IPython display function\n",
    "            display(frame_rgb)\n",
    "            clear_output(wait=True)  # Clear the output for the next frame\n",
    "\n",
    "            # Pause for a while (adjust this delay as needed)\n",
    "            time.sleep(1/60)\n",
    "\n",
    "        if cv2.waitKey(10) & 0xFF == ord('p'):\n",
    "            break\n",
    "\n",
    "        # Check if video is not opened\n",
    "        if not ret:\n",
    "            break\n",
    "\n",
    "finally:\n",
    "    video.release()\n",
    "    cv2.destroyAllWindows()\n"
   ]
  },
  {
   "cell_type": "code",
   "execution_count": null,
   "id": "1b989fc9-8043-4b5d-b59b-3a55eb163e3d",
   "metadata": {},
   "outputs": [],
   "source": []
  }
 ],
 "metadata": {
  "kernelspec": {
   "display_name": "Python 3 (ipykernel)",
   "language": "python",
   "name": "python3"
  },
  "language_info": {
   "codemirror_mode": {
    "name": "ipython",
    "version": 3
   },
   "file_extension": ".py",
   "mimetype": "text/x-python",
   "name": "python",
   "nbconvert_exporter": "python",
   "pygments_lexer": "ipython3",
   "version": "3.11.7"
  }
 },
 "nbformat": 4,
 "nbformat_minor": 5
}
