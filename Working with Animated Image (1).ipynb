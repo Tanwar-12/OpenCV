{
 "cells": [
  {
   "cell_type": "markdown",
   "id": "08572e58",
   "metadata": {},
   "source": [
    "## Convert the .GIF to .BMP and it’s vice-versa"
   ]
  },
  {
   "cell_type": "code",
   "execution_count": 2,
   "id": "f1dc2242",
   "metadata": {},
   "outputs": [
    {
     "name": "stdout",
     "output_type": "stream",
     "text": [
      "Converted GIF to BMP: output.bmp\n"
     ]
    }
   ],
   "source": [
    "#Convert the .GIF to .BMP\n",
    "\n",
    "from PIL import Image\n",
    "\n",
    "# Open the GIF file\n",
    "gif_file_path = 'Image2.gif'  # Replace with the actual path to your GIF file\n",
    "gif_image = Image.open(gif_file_path)\n",
    "\n",
    "# Convert GIF to BMP\n",
    "bmp_output_path = 'output.bmp'  # Replace with the desired output BMP file path\n",
    "gif_image.save(bmp_output_path, 'BMP')\n",
    "print(f\"Converted GIF to BMP: {bmp_output_path}\")\n"
   ]
  },
  {
   "cell_type": "code",
   "execution_count": 3,
   "id": "0a87cbd7",
   "metadata": {},
   "outputs": [
    {
     "name": "stdout",
     "output_type": "stream",
     "text": [
      "Converted BMP to GIF: output.gif\n"
     ]
    }
   ],
   "source": [
    "#Convert BMP to GIF:\n",
    "from PIL import Image\n",
    "\n",
    "# Open the BMP file\n",
    "bmp_file_path = '00001.bmp'  # Replace with the actual path to your BMP file\n",
    "bmp_image = Image.open(bmp_file_path)\n",
    "\n",
    "# Convert BMP to GIF\n",
    "gif_output_path = 'output.gif'  # Replace with the desired output GIF file path\n",
    "bmp_image.save(gif_output_path, 'GIF')\n",
    "print(f\"Converted BMP to GIF: {gif_output_path}\")"
   ]
  },
  {
   "cell_type": "code",
   "execution_count": null,
   "id": "4f001593",
   "metadata": {},
   "outputs": [],
   "source": []
  }
 ],
 "metadata": {
  "kernelspec": {
   "display_name": "Python 3 (ipykernel)",
   "language": "python",
   "name": "python3"
  },
  "language_info": {
   "codemirror_mode": {
    "name": "ipython",
    "version": 3
   },
   "file_extension": ".py",
   "mimetype": "text/x-python",
   "name": "python",
   "nbconvert_exporter": "python",
   "pygments_lexer": "ipython3",
   "version": "3.11.5"
  }
 },
 "nbformat": 4,
 "nbformat_minor": 5
}
